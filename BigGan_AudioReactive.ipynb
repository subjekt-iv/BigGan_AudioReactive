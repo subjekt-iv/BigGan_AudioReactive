{
  "nbformat": 4,
  "nbformat_minor": 0,
  "metadata": {
    "accelerator": "GPU",
    "colab": {
      "name": "BigGan_AudioReactive.ipynb",
      "provenance": [],
      "collapsed_sections": [],
      "machine_shape": "hm",
      "include_colab_link": true
    },
    "kernelspec": {
      "display_name": "Python 3",
      "name": "python3"
    }
  },
  "cells": [
    {
      "cell_type": "markdown",
      "metadata": {
        "id": "view-in-github",
        "colab_type": "text"
      },
      "source": [
        "<a href=\"https://colab.research.google.com/github/subjekt-iv/BigGan_AudioReactive/blob/main/BigGan_AudioReactive.ipynb\" target=\"_parent\"><img src=\"https://colab.research.google.com/assets/colab-badge.svg\" alt=\"Open In Colab\"/></a>"
      ]
    },
    {
      "cell_type": "markdown",
      "metadata": {
        "id": "fl2Pj8pjQMZm"
      },
      "source": [
        "# Visualizador con BigGan (deep music visualizer)\n",
        "\n",
        "Este notebook es para generar videos con BigGan (Brock et al., 2018) en particular vamos a traducir audio a vectores en el espacio latente para generar interpolaciones ente multiples clases.\n",
        "\n",
        "(Esta es una version del repsitorio: https://github.com/msieg/deep-music-visualizer creado por msieg)\n"
      ]
    },
    {
      "cell_type": "code",
      "source": [
        "from google.colab import drive\n",
        "drive.mount('/content/drive')"
      ],
      "metadata": {
        "id": "7pdfVl_KCNb3",
        "outputId": "e0a48355-0781-431a-bfc8-e4eb94e4f90d",
        "colab": {
          "base_uri": "https://localhost:8080/"
        }
      },
      "execution_count": null,
      "outputs": [
        {
          "output_type": "stream",
          "name": "stdout",
          "text": [
            "Mounted at /content/drive\n"
          ]
        }
      ]
    },
    {
      "cell_type": "markdown",
      "metadata": {
        "id": "y7UXPSFhS_pZ"
      },
      "source": [
        "# GPU\n",
        "Primer vamos a confirmar que tenemos una p100 de GPU que es la que vamos a necesitar para correr esta notebook"
      ]
    },
    {
      "cell_type": "code",
      "metadata": {
        "colab": {
          "base_uri": "https://localhost:8080/"
        },
        "id": "rxlkxvkrCyin",
        "outputId": "a808e65d-ceec-44a4-abc4-1d7dceb51c1f"
      },
      "source": [
        "! nvidia-smi"
      ],
      "execution_count": 1,
      "outputs": [
        {
          "output_type": "stream",
          "name": "stdout",
          "text": [
            "Thu May 12 00:49:54 2022       \n",
            "+-----------------------------------------------------------------------------+\n",
            "| NVIDIA-SMI 460.32.03    Driver Version: 460.32.03    CUDA Version: 11.2     |\n",
            "|-------------------------------+----------------------+----------------------+\n",
            "| GPU  Name        Persistence-M| Bus-Id        Disp.A | Volatile Uncorr. ECC |\n",
            "| Fan  Temp  Perf  Pwr:Usage/Cap|         Memory-Usage | GPU-Util  Compute M. |\n",
            "|                               |                      |               MIG M. |\n",
            "|===============================+======================+======================|\n",
            "|   0  Tesla T4            Off  | 00000000:00:04.0 Off |                    0 |\n",
            "| N/A   48C    P8    10W /  70W |      0MiB / 15109MiB |      0%      Default |\n",
            "|                               |                      |                  N/A |\n",
            "+-------------------------------+----------------------+----------------------+\n",
            "                                                                               \n",
            "+-----------------------------------------------------------------------------+\n",
            "| Processes:                                                                  |\n",
            "|  GPU   GI   CI        PID   Type   Process name                  GPU Memory |\n",
            "|        ID   ID                                                   Usage      |\n",
            "|=============================================================================|\n",
            "|  No running processes found                                                 |\n",
            "+-----------------------------------------------------------------------------+\n"
          ]
        }
      ]
    },
    {
      "cell_type": "markdown",
      "metadata": {
        "id": "BUuT8q8WTV_W"
      },
      "source": [
        "# Ahora vamos a instalar el reposoitorio\n"
      ]
    },
    {
      "cell_type": "code",
      "metadata": {
        "id": "jyDODoaWC6KI",
        "colab": {
          "base_uri": "https://localhost:8080/"
        },
        "outputId": "269eb8b7-70a1-4bc3-8838-15df1bdd8708"
      },
      "source": [
        "%tensorflow_version 1.x"
      ],
      "execution_count": 1,
      "outputs": [
        {
          "output_type": "stream",
          "name": "stdout",
          "text": [
            "TensorFlow 1.x selected.\n"
          ]
        }
      ]
    },
    {
      "cell_type": "code",
      "metadata": {
        "colab": {
          "base_uri": "https://localhost:8080/"
        },
        "id": "OQxtzEiFN0YQ",
        "outputId": "7b83eeff-a44e-4279-c9ed-7e81ace5c6f2"
      },
      "source": [
        "!git clone https://github.com/msieg/deep-music-visualizer.git\n",
        "!cd deep-music-visualizer"
      ],
      "execution_count": 2,
      "outputs": [
        {
          "output_type": "stream",
          "name": "stdout",
          "text": [
            "fatal: destination path 'deep-music-visualizer' already exists and is not an empty directory.\n"
          ]
        }
      ]
    },
    {
      "cell_type": "code",
      "metadata": {
        "colab": {
          "base_uri": "https://localhost:8080/"
        },
        "id": "Iw6uPT54N9xy",
        "outputId": "1d715af9-4425-43a8-d45e-be2ec8372f80"
      },
      "source": [
        "!pip install -r /content/deep-music-visualizer/requirements.txt"
      ],
      "execution_count": 3,
      "outputs": [
        {
          "output_type": "stream",
          "name": "stdout",
          "text": [
            "Requirement already satisfied: tqdm in /usr/local/lib/python3.7/dist-packages (from -r /content/deep-music-visualizer/requirements.txt (line 2)) (4.64.0)\n",
            "Requirement already satisfied: librosa in /usr/local/lib/python3.7/dist-packages (from -r /content/deep-music-visualizer/requirements.txt (line 4)) (0.8.1)\n",
            "Requirement already satisfied: moviepy in /usr/local/lib/python3.7/dist-packages (from -r /content/deep-music-visualizer/requirements.txt (line 6)) (0.2.3.5)\n",
            "Requirement already satisfied: torch in /usr/local/lib/python3.7/dist-packages (from -r /content/deep-music-visualizer/requirements.txt (line 8)) (1.11.0+cu113)\n",
            "Collecting scipy==1.1.0\n",
            "  Using cached scipy-1.1.0-cp37-cp37m-manylinux1_x86_64.whl (31.2 MB)\n",
            "Requirement already satisfied: pytorch_pretrained_biggan in /usr/local/lib/python3.7/dist-packages (from -r /content/deep-music-visualizer/requirements.txt (line 12)) (0.1.1)\n",
            "Requirement already satisfied: numpy>=1.8.2 in /usr/local/lib/python3.7/dist-packages (from scipy==1.1.0->-r /content/deep-music-visualizer/requirements.txt (line 10)) (1.21.6)\n",
            "Requirement already satisfied: pooch>=1.0 in /usr/local/lib/python3.7/dist-packages (from librosa->-r /content/deep-music-visualizer/requirements.txt (line 4)) (1.6.0)\n",
            "Requirement already satisfied: resampy>=0.2.2 in /usr/local/lib/python3.7/dist-packages (from librosa->-r /content/deep-music-visualizer/requirements.txt (line 4)) (0.2.2)\n",
            "Requirement already satisfied: scikit-learn!=0.19.0,>=0.14.0 in /usr/local/lib/python3.7/dist-packages (from librosa->-r /content/deep-music-visualizer/requirements.txt (line 4)) (1.0.2)\n",
            "Requirement already satisfied: audioread>=2.0.0 in /usr/local/lib/python3.7/dist-packages (from librosa->-r /content/deep-music-visualizer/requirements.txt (line 4)) (2.1.9)\n",
            "Requirement already satisfied: packaging>=20.0 in /usr/local/lib/python3.7/dist-packages (from librosa->-r /content/deep-music-visualizer/requirements.txt (line 4)) (21.3)\n",
            "Requirement already satisfied: joblib>=0.14 in /usr/local/lib/python3.7/dist-packages (from librosa->-r /content/deep-music-visualizer/requirements.txt (line 4)) (1.1.0)\n",
            "Requirement already satisfied: decorator>=3.0.0 in /usr/local/lib/python3.7/dist-packages (from librosa->-r /content/deep-music-visualizer/requirements.txt (line 4)) (4.4.2)\n",
            "Requirement already satisfied: numba>=0.43.0 in /usr/local/lib/python3.7/dist-packages (from librosa->-r /content/deep-music-visualizer/requirements.txt (line 4)) (0.51.2)\n",
            "Requirement already satisfied: soundfile>=0.10.2 in /usr/local/lib/python3.7/dist-packages (from librosa->-r /content/deep-music-visualizer/requirements.txt (line 4)) (0.10.3.post1)\n",
            "Requirement already satisfied: setuptools in /usr/local/lib/python3.7/dist-packages (from numba>=0.43.0->librosa->-r /content/deep-music-visualizer/requirements.txt (line 4)) (57.4.0)\n",
            "Requirement already satisfied: llvmlite<0.35,>=0.34.0.dev0 in /usr/local/lib/python3.7/dist-packages (from numba>=0.43.0->librosa->-r /content/deep-music-visualizer/requirements.txt (line 4)) (0.34.0)\n",
            "Requirement already satisfied: pyparsing!=3.0.5,>=2.0.2 in /usr/local/lib/python3.7/dist-packages (from packaging>=20.0->librosa->-r /content/deep-music-visualizer/requirements.txt (line 4)) (3.0.8)\n",
            "Requirement already satisfied: appdirs>=1.3.0 in /usr/local/lib/python3.7/dist-packages (from pooch>=1.0->librosa->-r /content/deep-music-visualizer/requirements.txt (line 4)) (1.4.4)\n",
            "Requirement already satisfied: requests>=2.19.0 in /usr/local/lib/python3.7/dist-packages (from pooch>=1.0->librosa->-r /content/deep-music-visualizer/requirements.txt (line 4)) (2.23.0)\n",
            "Requirement already satisfied: urllib3!=1.25.0,!=1.25.1,<1.26,>=1.21.1 in /usr/local/lib/python3.7/dist-packages (from requests>=2.19.0->pooch>=1.0->librosa->-r /content/deep-music-visualizer/requirements.txt (line 4)) (1.25.11)\n",
            "Requirement already satisfied: idna<3,>=2.5 in /usr/local/lib/python3.7/dist-packages (from requests>=2.19.0->pooch>=1.0->librosa->-r /content/deep-music-visualizer/requirements.txt (line 4)) (2.10)\n",
            "Requirement already satisfied: chardet<4,>=3.0.2 in /usr/local/lib/python3.7/dist-packages (from requests>=2.19.0->pooch>=1.0->librosa->-r /content/deep-music-visualizer/requirements.txt (line 4)) (3.0.4)\n",
            "Requirement already satisfied: certifi>=2017.4.17 in /usr/local/lib/python3.7/dist-packages (from requests>=2.19.0->pooch>=1.0->librosa->-r /content/deep-music-visualizer/requirements.txt (line 4)) (2021.10.8)\n",
            "Requirement already satisfied: six>=1.3 in /usr/local/lib/python3.7/dist-packages (from resampy>=0.2.2->librosa->-r /content/deep-music-visualizer/requirements.txt (line 4)) (1.15.0)\n",
            "Requirement already satisfied: threadpoolctl>=2.0.0 in /usr/local/lib/python3.7/dist-packages (from scikit-learn!=0.19.0,>=0.14.0->librosa->-r /content/deep-music-visualizer/requirements.txt (line 4)) (3.1.0)\n",
            "Requirement already satisfied: cffi>=1.0 in /usr/local/lib/python3.7/dist-packages (from soundfile>=0.10.2->librosa->-r /content/deep-music-visualizer/requirements.txt (line 4)) (1.15.0)\n",
            "Requirement already satisfied: pycparser in /usr/local/lib/python3.7/dist-packages (from cffi>=1.0->soundfile>=0.10.2->librosa->-r /content/deep-music-visualizer/requirements.txt (line 4)) (2.21)\n",
            "Requirement already satisfied: imageio<3.0,>=2.1.2 in /usr/local/lib/python3.7/dist-packages (from moviepy->-r /content/deep-music-visualizer/requirements.txt (line 6)) (2.4.1)\n",
            "Requirement already satisfied: pillow in /usr/local/lib/python3.7/dist-packages (from imageio<3.0,>=2.1.2->moviepy->-r /content/deep-music-visualizer/requirements.txt (line 6)) (7.1.2)\n",
            "Requirement already satisfied: typing-extensions in /usr/local/lib/python3.7/dist-packages (from torch->-r /content/deep-music-visualizer/requirements.txt (line 8)) (4.2.0)\n",
            "Requirement already satisfied: boto3 in /usr/local/lib/python3.7/dist-packages (from pytorch_pretrained_biggan->-r /content/deep-music-visualizer/requirements.txt (line 12)) (1.22.12)\n",
            "Requirement already satisfied: botocore<1.26.0,>=1.25.12 in /usr/local/lib/python3.7/dist-packages (from boto3->pytorch_pretrained_biggan->-r /content/deep-music-visualizer/requirements.txt (line 12)) (1.25.12)\n",
            "Requirement already satisfied: s3transfer<0.6.0,>=0.5.0 in /usr/local/lib/python3.7/dist-packages (from boto3->pytorch_pretrained_biggan->-r /content/deep-music-visualizer/requirements.txt (line 12)) (0.5.2)\n",
            "Requirement already satisfied: jmespath<2.0.0,>=0.7.1 in /usr/local/lib/python3.7/dist-packages (from boto3->pytorch_pretrained_biggan->-r /content/deep-music-visualizer/requirements.txt (line 12)) (1.0.0)\n",
            "Requirement already satisfied: python-dateutil<3.0.0,>=2.1 in /usr/local/lib/python3.7/dist-packages (from botocore<1.26.0,>=1.25.12->boto3->pytorch_pretrained_biggan->-r /content/deep-music-visualizer/requirements.txt (line 12)) (2.8.2)\n",
            "Installing collected packages: scipy\n",
            "  Attempting uninstall: scipy\n",
            "    Found existing installation: scipy 1.2.3\n",
            "    Uninstalling scipy-1.2.3:\n",
            "      Successfully uninstalled scipy-1.2.3\n",
            "\u001b[31mERROR: pip's dependency resolver does not currently take into account all the packages that are installed. This behaviour is the source of the following dependency conflicts.\n",
            "pymc3 3.11.4 requires scipy>=1.2.0, but you have scipy 1.1.0 which is incompatible.\n",
            "plotnine 0.6.0 requires scipy>=1.2.0, but you have scipy 1.1.0 which is incompatible.\n",
            "kapre 0.3.7 requires tensorflow>=2.0.0, but you have tensorflow 1.15.2 which is incompatible.\n",
            "jax 0.3.8 requires scipy>=1.2.1, but you have scipy 1.1.0 which is incompatible.\u001b[0m\n",
            "Successfully installed scipy-1.1.0\n"
          ]
        }
      ]
    },
    {
      "cell_type": "code",
      "metadata": {
        "colab": {
          "base_uri": "https://localhost:8080/"
        },
        "id": "CFGnjedKNwEX",
        "outputId": "a05d02ad-4f83-49a8-8749-32ab6c37aca1"
      },
      "source": [
        "!pip install lucid==0.3.8"
      ],
      "execution_count": 4,
      "outputs": [
        {
          "output_type": "stream",
          "name": "stdout",
          "text": [
            "Requirement already satisfied: lucid==0.3.8 in /usr/local/lib/python3.7/dist-packages (0.3.8)\n",
            "Requirement already satisfied: decorator in /usr/local/lib/python3.7/dist-packages (from lucid==0.3.8) (4.4.2)\n",
            "Requirement already satisfied: cachetools in /usr/local/lib/python3.7/dist-packages (from lucid==0.3.8) (4.2.4)\n",
            "Requirement already satisfied: more-itertools in /usr/local/lib/python3.7/dist-packages (from lucid==0.3.8) (8.12.0)\n",
            "Requirement already satisfied: scikit-learn in /usr/local/lib/python3.7/dist-packages (from lucid==0.3.8) (1.0.2)\n",
            "Requirement already satisfied: click in /usr/local/lib/python3.7/dist-packages (from lucid==0.3.8) (7.1.2)\n",
            "Requirement already satisfied: numpy in /usr/local/lib/python3.7/dist-packages (from lucid==0.3.8) (1.21.6)\n",
            "Requirement already satisfied: pillow in /usr/local/lib/python3.7/dist-packages (from lucid==0.3.8) (7.1.2)\n",
            "Requirement already satisfied: ipython in /usr/local/lib/python3.7/dist-packages (from lucid==0.3.8) (5.5.0)\n",
            "Requirement already satisfied: umap-learn in /usr/local/lib/python3.7/dist-packages (from lucid==0.3.8) (0.4.0)\n",
            "Requirement already satisfied: future in /usr/local/lib/python3.7/dist-packages (from lucid==0.3.8) (0.16.0)\n",
            "Requirement already satisfied: scipy in /usr/local/lib/python3.7/dist-packages (from lucid==0.3.8) (1.1.0)\n",
            "Requirement already satisfied: pyopengl in /usr/local/lib/python3.7/dist-packages (from lucid==0.3.8) (3.1.6)\n",
            "Requirement already satisfied: filelock in /usr/local/lib/python3.7/dist-packages (from lucid==0.3.8) (3.6.0)\n",
            "Requirement already satisfied: setuptools>=18.5 in /usr/local/lib/python3.7/dist-packages (from ipython->lucid==0.3.8) (57.4.0)\n",
            "Requirement already satisfied: prompt-toolkit<2.0.0,>=1.0.4 in /usr/local/lib/python3.7/dist-packages (from ipython->lucid==0.3.8) (1.0.18)\n",
            "Requirement already satisfied: pexpect in /usr/local/lib/python3.7/dist-packages (from ipython->lucid==0.3.8) (4.8.0)\n",
            "Requirement already satisfied: pickleshare in /usr/local/lib/python3.7/dist-packages (from ipython->lucid==0.3.8) (0.7.5)\n",
            "Requirement already satisfied: pygments in /usr/local/lib/python3.7/dist-packages (from ipython->lucid==0.3.8) (2.6.1)\n",
            "Requirement already satisfied: traitlets>=4.2 in /usr/local/lib/python3.7/dist-packages (from ipython->lucid==0.3.8) (5.1.1)\n",
            "Requirement already satisfied: simplegeneric>0.8 in /usr/local/lib/python3.7/dist-packages (from ipython->lucid==0.3.8) (0.8.1)\n",
            "Requirement already satisfied: wcwidth in /usr/local/lib/python3.7/dist-packages (from prompt-toolkit<2.0.0,>=1.0.4->ipython->lucid==0.3.8) (0.2.5)\n",
            "Requirement already satisfied: six>=1.9.0 in /usr/local/lib/python3.7/dist-packages (from prompt-toolkit<2.0.0,>=1.0.4->ipython->lucid==0.3.8) (1.15.0)\n",
            "Requirement already satisfied: ptyprocess>=0.5 in /usr/local/lib/python3.7/dist-packages (from pexpect->ipython->lucid==0.3.8) (0.7.0)\n",
            "Requirement already satisfied: joblib>=0.11 in /usr/local/lib/python3.7/dist-packages (from scikit-learn->lucid==0.3.8) (1.1.0)\n",
            "Requirement already satisfied: threadpoolctl>=2.0.0 in /usr/local/lib/python3.7/dist-packages (from scikit-learn->lucid==0.3.8) (3.1.0)\n",
            "Requirement already satisfied: tbb>=2019.0 in /usr/local/lib/python3.7/dist-packages (from umap-learn->lucid==0.3.8) (2021.6.0)\n",
            "Requirement already satisfied: numba!=0.47,>=0.46 in /usr/local/lib/python3.7/dist-packages (from umap-learn->lucid==0.3.8) (0.51.2)\n",
            "Requirement already satisfied: llvmlite<0.35,>=0.34.0.dev0 in /usr/local/lib/python3.7/dist-packages (from numba!=0.47,>=0.46->umap-learn->lucid==0.3.8) (0.34.0)\n"
          ]
        }
      ]
    },
    {
      "cell_type": "code",
      "metadata": {
        "colab": {
          "base_uri": "https://localhost:8080/"
        },
        "id": "MSG5A6hYOJRk",
        "outputId": "5c8201a5-ebc9-48b0-eb0a-103d262974b9"
      },
      "source": [
        "!pip install imgaug==0.2.5"
      ],
      "execution_count": 5,
      "outputs": [
        {
          "output_type": "stream",
          "name": "stdout",
          "text": [
            "Requirement already satisfied: imgaug==0.2.5 in /usr/local/lib/python3.7/dist-packages (0.2.5)\n",
            "Requirement already satisfied: six in /usr/local/lib/python3.7/dist-packages (from imgaug==0.2.5) (1.15.0)\n",
            "Requirement already satisfied: scipy in /usr/local/lib/python3.7/dist-packages (from imgaug==0.2.5) (1.1.0)\n",
            "Requirement already satisfied: numpy>=1.7.0 in /usr/local/lib/python3.7/dist-packages (from imgaug==0.2.5) (1.21.6)\n",
            "Requirement already satisfied: scikit-image>=0.11.0 in /usr/local/lib/python3.7/dist-packages (from imgaug==0.2.5) (0.18.3)\n",
            "Requirement already satisfied: pillow!=7.1.0,!=7.1.1,>=4.3.0 in /usr/local/lib/python3.7/dist-packages (from scikit-image>=0.11.0->imgaug==0.2.5) (7.1.2)\n",
            "Requirement already satisfied: tifffile>=2019.7.26 in /usr/local/lib/python3.7/dist-packages (from scikit-image>=0.11.0->imgaug==0.2.5) (2021.11.2)\n",
            "Requirement already satisfied: PyWavelets>=1.1.1 in /usr/local/lib/python3.7/dist-packages (from scikit-image>=0.11.0->imgaug==0.2.5) (1.3.0)\n",
            "Requirement already satisfied: matplotlib!=3.0.0,>=2.0.0 in /usr/local/lib/python3.7/dist-packages (from scikit-image>=0.11.0->imgaug==0.2.5) (3.2.2)\n",
            "Requirement already satisfied: networkx>=2.0 in /usr/local/lib/python3.7/dist-packages (from scikit-image>=0.11.0->imgaug==0.2.5) (2.6.3)\n",
            "Requirement already satisfied: imageio>=2.3.0 in /usr/local/lib/python3.7/dist-packages (from scikit-image>=0.11.0->imgaug==0.2.5) (2.4.1)\n",
            "Requirement already satisfied: kiwisolver>=1.0.1 in /usr/local/lib/python3.7/dist-packages (from matplotlib!=3.0.0,>=2.0.0->scikit-image>=0.11.0->imgaug==0.2.5) (1.4.2)\n",
            "Requirement already satisfied: cycler>=0.10 in /usr/local/lib/python3.7/dist-packages (from matplotlib!=3.0.0,>=2.0.0->scikit-image>=0.11.0->imgaug==0.2.5) (0.11.0)\n",
            "Requirement already satisfied: pyparsing!=2.0.4,!=2.1.2,!=2.1.6,>=2.0.1 in /usr/local/lib/python3.7/dist-packages (from matplotlib!=3.0.0,>=2.0.0->scikit-image>=0.11.0->imgaug==0.2.5) (3.0.8)\n",
            "Requirement already satisfied: python-dateutil>=2.1 in /usr/local/lib/python3.7/dist-packages (from matplotlib!=3.0.0,>=2.0.0->scikit-image>=0.11.0->imgaug==0.2.5) (2.8.2)\n",
            "Requirement already satisfied: typing-extensions in /usr/local/lib/python3.7/dist-packages (from kiwisolver>=1.0.1->matplotlib!=3.0.0,>=2.0.0->scikit-image>=0.11.0->imgaug==0.2.5) (4.2.0)\n"
          ]
        }
      ]
    },
    {
      "cell_type": "code",
      "metadata": {
        "colab": {
          "base_uri": "https://localhost:8080/"
        },
        "id": "ZHsHsPJOOPDF",
        "outputId": "83607de9-eef4-433d-8da8-6aad41e43217"
      },
      "source": [
        "!pip install scipy==1.2.3"
      ],
      "execution_count": 6,
      "outputs": [
        {
          "output_type": "stream",
          "name": "stdout",
          "text": [
            "Collecting scipy==1.2.3\n",
            "  Using cached scipy-1.2.3-cp37-cp37m-manylinux1_x86_64.whl (24.8 MB)\n",
            "Requirement already satisfied: numpy>=1.8.2 in /usr/local/lib/python3.7/dist-packages (from scipy==1.2.3) (1.21.6)\n",
            "Installing collected packages: scipy\n",
            "  Attempting uninstall: scipy\n",
            "    Found existing installation: scipy 1.1.0\n",
            "    Uninstalling scipy-1.1.0:\n",
            "      Successfully uninstalled scipy-1.1.0\n",
            "\u001b[31mERROR: pip's dependency resolver does not currently take into account all the packages that are installed. This behaviour is the source of the following dependency conflicts.\n",
            "kapre 0.3.7 requires tensorflow>=2.0.0, but you have tensorflow 1.15.2 which is incompatible.\u001b[0m\n",
            "Successfully installed scipy-1.2.3\n"
          ]
        }
      ]
    },
    {
      "cell_type": "code",
      "metadata": {
        "colab": {
          "base_uri": "https://localhost:8080/"
        },
        "id": "tXEMpfYeOVY-",
        "outputId": "2fffea73-26de-4bf3-eedf-4473707ba2c3"
      },
      "source": [
        "!pip install umap-learn==0.4.0"
      ],
      "execution_count": 7,
      "outputs": [
        {
          "output_type": "stream",
          "name": "stdout",
          "text": [
            "Requirement already satisfied: umap-learn==0.4.0 in /usr/local/lib/python3.7/dist-packages (0.4.0)\n",
            "Requirement already satisfied: scikit-learn>=0.20 in /usr/local/lib/python3.7/dist-packages (from umap-learn==0.4.0) (1.0.2)\n",
            "Requirement already satisfied: numba!=0.47,>=0.46 in /usr/local/lib/python3.7/dist-packages (from umap-learn==0.4.0) (0.51.2)\n",
            "Requirement already satisfied: numpy>=1.15 in /usr/local/lib/python3.7/dist-packages (from umap-learn==0.4.0) (1.21.6)\n",
            "Requirement already satisfied: tbb>=2019.0 in /usr/local/lib/python3.7/dist-packages (from umap-learn==0.4.0) (2021.6.0)\n",
            "Requirement already satisfied: scipy>=1.0 in /usr/local/lib/python3.7/dist-packages (from umap-learn==0.4.0) (1.2.3)\n",
            "Requirement already satisfied: setuptools in /usr/local/lib/python3.7/dist-packages (from numba!=0.47,>=0.46->umap-learn==0.4.0) (57.4.0)\n",
            "Requirement already satisfied: llvmlite<0.35,>=0.34.0.dev0 in /usr/local/lib/python3.7/dist-packages (from numba!=0.47,>=0.46->umap-learn==0.4.0) (0.34.0)\n",
            "Requirement already satisfied: threadpoolctl>=2.0.0 in /usr/local/lib/python3.7/dist-packages (from scikit-learn>=0.20->umap-learn==0.4.0) (3.1.0)\n",
            "Requirement already satisfied: joblib>=0.11 in /usr/local/lib/python3.7/dist-packages (from scikit-learn>=0.20->umap-learn==0.4.0) (1.1.0)\n"
          ]
        }
      ]
    },
    {
      "cell_type": "markdown",
      "metadata": {
        "id": "T3qzZ0SzTkEy"
      },
      "source": [
        "\n",
        "\n",
        "\n",
        "# Vamos a ver como funcionan los comandos.\n",
        "\n",
        "\n",
        "\n",
        "- song \n",
        "\n",
        "Este comando va a indicar que cancion vamos a usar, la misma tiene que estar alojada en la memoria virtual. y se indica con su nombre y el tipo de archivo ej: \"beethoven.mp3\"\n",
        "\n",
        "- resolution\n",
        "\n",
        "Nos da opciones de resolucion. La resolucion por defecto es de 512x512 (esta es la maxima resolucion) pero esta la opcion de tener una salida de 256x256 y 128x128 pixles,\n",
        "indicandolas respectivamente 256 y 128.\n",
        "\n",
        "- duration\n",
        "\n",
        "marca la duracion del video, por defecto la duracion es la del audio. pero podemos indicar la cantidad de segundos que tendra el video, siendo el maximo el tiempo de duracion del audio.\n",
        "esto lo podemos indicar en segundos.\n",
        "\n",
        "\n",
        "- pitch_sensitivity\n",
        "\n",
        "determina que tan rapido el vector de clase (contenido tematico del video) reacciona los cambios de tono en el audio. Mientras mas grande es el valor, mayor la sensibilidad.\n",
        "\n",
        "Rango: 1 - 299\n",
        "\n",
        "Recomendado:  200 – 295\n",
        "\n",
        "Por defecto: 220\n",
        "\n",
        "\n",
        "- tempo_sensitivity\n",
        "\n",
        "determina que tan rapido el vector de noise (el que da las caracteristicas posicionales y de forma dentro de las clases)\n",
        "va a reaccionar a los cambion de volumen y tempo. Mientras mas grande es el valor, mayor la sensibilidad.\n",
        "\n",
        " Rango recomendado:  0.05 – 0.8\n",
        "\n",
        " Por defecto: 0.25\n",
        "\n",
        "\n",
        " - depth\n",
        " \n",
        "Determina la \"Profundidad\" de las imagenes.\n",
        " Los numeros cercanos a \n",
        "1 tienden a tener contenido mas variado dentro de la misma clase generando espacios y algunas imprectibilidades.\n",
        " los contenidos mas cercanos a 0 se acercan mas a estructuras complejas (estructras faciales o de perros,etc.) siempre dependiendo en la clase.\n",
        "\n",
        "Rango: 0.01 - 1\n",
        "\n",
        "Por defecto: 1\n",
        "\n",
        "\n",
        "- num_classes\n",
        "\n",
        "este comando va a indicar el numero de clases que vamos a usar, por defecto es 12 correspondiente a la escala tonal (A, A#, B, etc.).\n",
        "si usamos num_classes nuestro numero va a ser menor al maximo 12\n",
        "entonces las clases se van a asignar a los tonos con mayor precencia en el audio.\n",
        "\n",
        "- classes\n",
        "\n",
        "si queremos visualizar clases especificas aca tenemos un indice para buscarlas (https://gist.github.com/yrevar/942d3a0ac09ec9e5eb3a)\n",
        "el numero de clases debe ser igual al de num_classes o 12, si no usamos num_classes. (las clases van escritas solamente en numeros sin coma y con un espacio separandolas)\n",
        "\n",
        "\n",
        "Por defecto: aleatorio entre 0-999\n",
        "\n",
        "\n",
        "- sort_classes_by_power\n",
        "\n",
        "a este comando le pueden asignar 1 si quieren que las doce clases respeten el orden tonal harmonico, osea que si mi primer clase es por ejemplo 345 esta va estar asignada a A, la segunda a A#, la tercera a B, etc.\n",
        "\n",
        "- jitter\n",
        "\n",
        "jitter previene que los mismos vectores se repitan en musica repetitiva para que la salida de video sea mas variada. si por el contrario queremos que se repitan los mismos vectores podemos asignarle el valor 0.\n",
        "\n",
        "Rango: 0 - 1\n",
        "\n",
        "Por defecto:0.5\n",
        "\n",
        "- truncation\n",
        "\n",
        "controla el tipo de imagen que se genera segun la clase. valores cercanos a 0 dan imagenes mas reconocibles y valores mas cercanos a 1 dan lo opuesto.\n",
        "\n",
        "\n",
        "Rango: 0.1 - 1\n",
        "\n",
        "Por defecto: 1\n",
        "\n",
        "- batch_size\n",
        "\n",
        "esto se ultiliza para videos muy largos o muy demandantes de GPU para alivianar el proceso, reduce el procesamiento de bigGan.\n",
        "Bajar a menos de 30 solo si es necesario.\n",
        "\n",
        "Por defecto: 30\n",
        "\n",
        "- output\n",
        "\n",
        "este comando lo utilizamos para nombrar a nuestro archivo de salida lo hacemos con el nombre y el tipo de archivo por ej:\"interpolacion larga.mp4\"\n",
        "\n",
        "Por defecto: \"output.mp4\"\n",
        "\n",
        "\n",
        "\n",
        "\n",
        "\n",
        "\n",
        "\n",
        "\n",
        "\n",
        "\n",
        "\n",
        "\n",
        "\n",
        "\n",
        "\n",
        "\n",
        "\n",
        "\n",
        "\n",
        "\n",
        "\n",
        "\n",
        "\n",
        "\n",
        "\n",
        "\n",
        "\n",
        "\n",
        "\n",
        "\n",
        "\n"
      ]
    },
    {
      "cell_type": "code",
      "metadata": {
        "colab": {
          "base_uri": "https://localhost:8080/"
        },
        "id": "4CTamnObOZg2",
        "outputId": "bfe7478c-f723-4c04-cde9-8a46f9c964a3"
      },
      "source": [
        "!python /content/deep-music-visualizer/visualize.py --song \"/content/deep-music-visualizer/gansmelody.mp3\" --pitch_sensitivity 37 --tempo_sensitivity 0.05 --jitter 0 --truncation 0.1 --depth 0.00 --num_classes 2 --classes 949 947 --batch_size 25 --output \"output-shrooms.mp4\""
      ],
      "execution_count": 8,
      "outputs": [
        {
          "output_type": "stream",
          "name": "stdout",
          "text": [
            "\n",
            "Reading audio \n",
            "\n",
            "\n",
            "Generating input vectors \n",
            "\n",
            "100% 2527/2527 [00:00<00:00, 6254.62it/s]\n",
            "\n",
            "\n",
            "Generating frames \n",
            "\n",
            " 99% 100/101 [02:54<00:01,  1.75s/it]\n",
            "[MoviePy] >>>> Building video output-shrooms.mp4\n",
            "[MoviePy] Writing audio in output-shroomsTEMP_MPY_wvf_snd.mp4\n",
            "100% 1294/1294 [00:04<00:00, 293.05it/s]\n",
            "[MoviePy] Done.\n",
            "[MoviePy] Writing video output-shrooms.mp4\n",
            "100% 2500/2500 [01:05<00:00, 38.27it/s]\n",
            "[MoviePy] Done.\n",
            "[MoviePy] >>>> Video ready: output-shrooms.mp4 \n",
            "\n"
          ]
        }
      ]
    },
    {
      "cell_type": "markdown",
      "metadata": {
        "id": "0-5G7eyeu00Q"
      },
      "source": [
        "# El archivo de salida\n",
        "Podemos acceder al output desde el indice de archivos de la memoria virtual de colab y descargarlo haciendo click a nuestra computadora o tranferirlo a nuestro drive desde el indice de archivos haciendo drag and drop en la carpeta de my drive o drive despues de correr la celda de autorizacion acontinuacion.\n",
        "\n",
        "Recuerden que la memoria virtual se resetea y si no bajamos o pasamos el material al drive se *ELIMINA*"
      ]
    },
    {
      "cell_type": "markdown",
      "metadata": {
        "id": "91wZBWnEDmeh"
      },
      "source": [
        ""
      ]
    },
    {
      "cell_type": "code",
      "metadata": {
        "colab": {
          "base_uri": "https://localhost:8080/"
        },
        "id": "rx7ERxrMxCbC",
        "outputId": "7306514e-ed2a-481f-ea20-52db38bac0f4"
      },
      "source": [
        "from google.colab import drive\n",
        "drive.mount('/content/drive', force_remount=True)"
      ],
      "execution_count": null,
      "outputs": [
        {
          "output_type": "stream",
          "name": "stdout",
          "text": [
            "Mounted at /content/drive\n"
          ]
        }
      ]
    }
  ]
}